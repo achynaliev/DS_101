{
  "cells": [
    {
      "cell_type": "markdown",
      "metadata": {
        "id": "view-in-github",
        "colab_type": "text"
      },
      "source": [
        "<a href=\"https://colab.research.google.com/github/achynaliev/DS_101/blob/main/Copy_of_fitness_data.ipynb\" target=\"_parent\"><img src=\"https://colab.research.google.com/assets/colab-badge.svg\" alt=\"Open In Colab\"/></a>"
      ]
    },
    {
      "cell_type": "markdown",
      "metadata": {
        "id": "yNM_ZWPUebfB"
      },
      "source": [
        "## Фитнес.\n",
        "\n",
        "Давайте представим, что вы решили помоч другу, у которого свой фитнес центр. Он хочет увеличить прибыльность своего бизнеса и найти решения, которые позволят ему это сделать. Вы, как начинающий дата сайнтист решили посоветовать ему собирать данные о клиентах чтобы сделать некоторые выводы.\n",
        "\n"
      ]
    },
    {
      "cell_type": "markdown",
      "source": [
        "## Генерация данных"
      ],
      "metadata": {
        "id": "SLnbtt7MB_cg"
      }
    },
    {
      "cell_type": "code",
      "execution_count": null,
      "metadata": {
        "id": "UVs3fujjfRPZ"
      },
      "outputs": [],
      "source": [
        "import random\n",
        "import pandas as pd"
      ]
    },
    {
      "cell_type": "code",
      "execution_count": null,
      "metadata": {
        "id": "pNxsaeJhfQ-t"
      },
      "outputs": [],
      "source": [
        "client_id = ['ID_' + str(random.randrange(10000, 100000)) for i in range(1000)]\n",
        "age = [random.randrange(18, 60) for i in range(1000)]\n",
        "height = [random.randrange(155, 198) for i in range(1000)]\n",
        "weight = [random.randrange(40, 120) for i in range(1000)]\n",
        "sex_dict = {0: 'M', 1: 'F'}\n",
        "sex = [sex_dict[random.randrange(2)] for i in range(1000)]\n",
        "trener = [random.randrange(2) for i in range(1000)]\n",
        "long_time = [random.randrange(1, 25) for i in range(1000)]\n",
        "price_dict = {0:2000, 1:3500, 2: 5000, 3:7000}\n",
        "tarif = [random.randrange(4) for i in range(1000)]\n",
        "price = [price_dict[i] for i in tarif]"
      ]
    },
    {
      "cell_type": "code",
      "execution_count": null,
      "metadata": {
        "id": "MoeYiSwXjvnk"
      },
      "outputs": [],
      "source": [
        "lable = [client_id, age, height, weight, sex, trener, long_time, tarif, price]\n",
        "title = ['client_id', 'age', 'height', 'weight', 'sex', 'trener', 'long_time', 'tarif', 'price']\n",
        "table = [[j[i] for j in lable] for i in range(1000)]"
      ]
    },
    {
      "cell_type": "code",
      "execution_count": null,
      "metadata": {
        "id": "M4fz-J7Djve0"
      },
      "outputs": [],
      "source": [
        "def go():\n",
        "  print(*title)\n",
        "  for i in range(22):\n",
        "    for j in table[i]:\n",
        "      t = len(str(j))\n",
        "      print(j, end='  ' + ' '*(4-t))\n",
        "    print()\n"
      ]
    },
    {
      "cell_type": "code",
      "execution_count": null,
      "metadata": {
        "id": "gut8OIc1eAHa"
      },
      "outputs": [],
      "source": [
        "df = pd.DataFrame({'client_id': client_id, 'age': age, 'height': height, 'weight': weight, 'sex': sex, 'trener': trener, 'long_time': long_time, 'tarif': tarif, 'price': price})"
      ]
    },
    {
      "cell_type": "code",
      "execution_count": null,
      "metadata": {
        "id": "3GshghWdeKKu"
      },
      "outputs": [],
      "source": [
        "df['IMT'] = (df.weight/(df.height/100)**2).map(lambda i: round(i, 2))"
      ]
    },
    {
      "cell_type": "code",
      "execution_count": null,
      "metadata": {
        "id": "vef3vglfIoec"
      },
      "outputs": [],
      "source": [
        "inter = ['underweight', 'normal weight', 'overweight', 'obesity_1st', 'obesity_2nd', 'obesity_3rd']\n",
        "def interpreted_IMT(x):\n",
        "  if x < 18.5:\n",
        "    return inter[0]\n",
        "  elif (x>=18.5) and (x<25):\n",
        "    return inter[1]\n",
        "  elif (x>=25) and (x<30):\n",
        "    return inter[2]\n",
        "  elif (x>=30) and (x<35):\n",
        "    return inter[3]\n",
        "  elif (x>=35) and (x<40):\n",
        "    return inter[4]\n",
        "  else:\n",
        "    return inter[5]\n",
        "df['interpreted_IMT'] = df['IMT'].map(interpreted_IMT)"
      ]
    },
    {
      "cell_type": "code",
      "execution_count": null,
      "metadata": {
        "id": "bJ2TWJ2jP1jz"
      },
      "outputs": [],
      "source": [
        "for i in range(df.shape[0]):\n",
        "  if (df.loc[i, 'tarif'] == 0 or df.loc[i, 'tarif'] == 0) and (df.loc[i, 'trener'] == 1):\n",
        "    df.loc[i, 'price'] = df.loc[i, 'price'] + 4000"
      ]
    },
    {
      "cell_type": "code",
      "execution_count": null,
      "metadata": {
        "colab": {
          "base_uri": "https://localhost:8080/",
          "height": 424
        },
        "id": "Gjdgwez_EUED",
        "outputId": "aabfaab1-d7d4-4182-cf6f-475cb15290bb"
      },
      "outputs": [
        {
          "output_type": "execute_result",
          "data": {
            "text/plain": [
              "    client_id  age  height  weight sex  trener  long_time  tarif  price  \\\n",
              "0    ID_23008   28     183     111   F       0          9      3   7000   \n",
              "1    ID_82144   57     158      56   M       1         22      2   5000   \n",
              "2    ID_64064   36     184      64   M       0         12      3   7000   \n",
              "3    ID_55593   24     166      71   M       1         23      1   3500   \n",
              "4    ID_91313   22     176      63   M       0         20      2   5000   \n",
              "..        ...  ...     ...     ...  ..     ...        ...    ...    ...   \n",
              "995  ID_56044   58     182      75   M       1         22      3   7000   \n",
              "996  ID_16005   21     183      65   F       0         23      3   7000   \n",
              "997  ID_69164   58     191      84   M       1         12      2   5000   \n",
              "998  ID_98615   47     186      72   F       1         23      1   3500   \n",
              "999  ID_53048   24     172      58   F       1         22      0   6000   \n",
              "\n",
              "       IMT interpreted_IMT  \n",
              "0    33.15     obesity_1st  \n",
              "1    22.43   normal weight  \n",
              "2    18.90   normal weight  \n",
              "3    25.77      overweight  \n",
              "4    20.34   normal weight  \n",
              "..     ...             ...  \n",
              "995  22.64   normal weight  \n",
              "996  19.41   normal weight  \n",
              "997  23.03   normal weight  \n",
              "998  20.81   normal weight  \n",
              "999  19.61   normal weight  \n",
              "\n",
              "[1000 rows x 11 columns]"
            ],
            "text/html": [
              "\n",
              "  <div id=\"df-d68c9488-07ce-4b74-88cb-06442ed741d7\">\n",
              "    <div class=\"colab-df-container\">\n",
              "      <div>\n",
              "<style scoped>\n",
              "    .dataframe tbody tr th:only-of-type {\n",
              "        vertical-align: middle;\n",
              "    }\n",
              "\n",
              "    .dataframe tbody tr th {\n",
              "        vertical-align: top;\n",
              "    }\n",
              "\n",
              "    .dataframe thead th {\n",
              "        text-align: right;\n",
              "    }\n",
              "</style>\n",
              "<table border=\"1\" class=\"dataframe\">\n",
              "  <thead>\n",
              "    <tr style=\"text-align: right;\">\n",
              "      <th></th>\n",
              "      <th>client_id</th>\n",
              "      <th>age</th>\n",
              "      <th>height</th>\n",
              "      <th>weight</th>\n",
              "      <th>sex</th>\n",
              "      <th>trener</th>\n",
              "      <th>long_time</th>\n",
              "      <th>tarif</th>\n",
              "      <th>price</th>\n",
              "      <th>IMT</th>\n",
              "      <th>interpreted_IMT</th>\n",
              "    </tr>\n",
              "  </thead>\n",
              "  <tbody>\n",
              "    <tr>\n",
              "      <th>0</th>\n",
              "      <td>ID_23008</td>\n",
              "      <td>28</td>\n",
              "      <td>183</td>\n",
              "      <td>111</td>\n",
              "      <td>F</td>\n",
              "      <td>0</td>\n",
              "      <td>9</td>\n",
              "      <td>3</td>\n",
              "      <td>7000</td>\n",
              "      <td>33.15</td>\n",
              "      <td>obesity_1st</td>\n",
              "    </tr>\n",
              "    <tr>\n",
              "      <th>1</th>\n",
              "      <td>ID_82144</td>\n",
              "      <td>57</td>\n",
              "      <td>158</td>\n",
              "      <td>56</td>\n",
              "      <td>M</td>\n",
              "      <td>1</td>\n",
              "      <td>22</td>\n",
              "      <td>2</td>\n",
              "      <td>5000</td>\n",
              "      <td>22.43</td>\n",
              "      <td>normal weight</td>\n",
              "    </tr>\n",
              "    <tr>\n",
              "      <th>2</th>\n",
              "      <td>ID_64064</td>\n",
              "      <td>36</td>\n",
              "      <td>184</td>\n",
              "      <td>64</td>\n",
              "      <td>M</td>\n",
              "      <td>0</td>\n",
              "      <td>12</td>\n",
              "      <td>3</td>\n",
              "      <td>7000</td>\n",
              "      <td>18.90</td>\n",
              "      <td>normal weight</td>\n",
              "    </tr>\n",
              "    <tr>\n",
              "      <th>3</th>\n",
              "      <td>ID_55593</td>\n",
              "      <td>24</td>\n",
              "      <td>166</td>\n",
              "      <td>71</td>\n",
              "      <td>M</td>\n",
              "      <td>1</td>\n",
              "      <td>23</td>\n",
              "      <td>1</td>\n",
              "      <td>3500</td>\n",
              "      <td>25.77</td>\n",
              "      <td>overweight</td>\n",
              "    </tr>\n",
              "    <tr>\n",
              "      <th>4</th>\n",
              "      <td>ID_91313</td>\n",
              "      <td>22</td>\n",
              "      <td>176</td>\n",
              "      <td>63</td>\n",
              "      <td>M</td>\n",
              "      <td>0</td>\n",
              "      <td>20</td>\n",
              "      <td>2</td>\n",
              "      <td>5000</td>\n",
              "      <td>20.34</td>\n",
              "      <td>normal weight</td>\n",
              "    </tr>\n",
              "    <tr>\n",
              "      <th>...</th>\n",
              "      <td>...</td>\n",
              "      <td>...</td>\n",
              "      <td>...</td>\n",
              "      <td>...</td>\n",
              "      <td>...</td>\n",
              "      <td>...</td>\n",
              "      <td>...</td>\n",
              "      <td>...</td>\n",
              "      <td>...</td>\n",
              "      <td>...</td>\n",
              "      <td>...</td>\n",
              "    </tr>\n",
              "    <tr>\n",
              "      <th>995</th>\n",
              "      <td>ID_56044</td>\n",
              "      <td>58</td>\n",
              "      <td>182</td>\n",
              "      <td>75</td>\n",
              "      <td>M</td>\n",
              "      <td>1</td>\n",
              "      <td>22</td>\n",
              "      <td>3</td>\n",
              "      <td>7000</td>\n",
              "      <td>22.64</td>\n",
              "      <td>normal weight</td>\n",
              "    </tr>\n",
              "    <tr>\n",
              "      <th>996</th>\n",
              "      <td>ID_16005</td>\n",
              "      <td>21</td>\n",
              "      <td>183</td>\n",
              "      <td>65</td>\n",
              "      <td>F</td>\n",
              "      <td>0</td>\n",
              "      <td>23</td>\n",
              "      <td>3</td>\n",
              "      <td>7000</td>\n",
              "      <td>19.41</td>\n",
              "      <td>normal weight</td>\n",
              "    </tr>\n",
              "    <tr>\n",
              "      <th>997</th>\n",
              "      <td>ID_69164</td>\n",
              "      <td>58</td>\n",
              "      <td>191</td>\n",
              "      <td>84</td>\n",
              "      <td>M</td>\n",
              "      <td>1</td>\n",
              "      <td>12</td>\n",
              "      <td>2</td>\n",
              "      <td>5000</td>\n",
              "      <td>23.03</td>\n",
              "      <td>normal weight</td>\n",
              "    </tr>\n",
              "    <tr>\n",
              "      <th>998</th>\n",
              "      <td>ID_98615</td>\n",
              "      <td>47</td>\n",
              "      <td>186</td>\n",
              "      <td>72</td>\n",
              "      <td>F</td>\n",
              "      <td>1</td>\n",
              "      <td>23</td>\n",
              "      <td>1</td>\n",
              "      <td>3500</td>\n",
              "      <td>20.81</td>\n",
              "      <td>normal weight</td>\n",
              "    </tr>\n",
              "    <tr>\n",
              "      <th>999</th>\n",
              "      <td>ID_53048</td>\n",
              "      <td>24</td>\n",
              "      <td>172</td>\n",
              "      <td>58</td>\n",
              "      <td>F</td>\n",
              "      <td>1</td>\n",
              "      <td>22</td>\n",
              "      <td>0</td>\n",
              "      <td>6000</td>\n",
              "      <td>19.61</td>\n",
              "      <td>normal weight</td>\n",
              "    </tr>\n",
              "  </tbody>\n",
              "</table>\n",
              "<p>1000 rows × 11 columns</p>\n",
              "</div>\n",
              "      <button class=\"colab-df-convert\" onclick=\"convertToInteractive('df-d68c9488-07ce-4b74-88cb-06442ed741d7')\"\n",
              "              title=\"Convert this dataframe to an interactive table.\"\n",
              "              style=\"display:none;\">\n",
              "        \n",
              "  <svg xmlns=\"http://www.w3.org/2000/svg\" height=\"24px\"viewBox=\"0 0 24 24\"\n",
              "       width=\"24px\">\n",
              "    <path d=\"M0 0h24v24H0V0z\" fill=\"none\"/>\n",
              "    <path d=\"M18.56 5.44l.94 2.06.94-2.06 2.06-.94-2.06-.94-.94-2.06-.94 2.06-2.06.94zm-11 1L8.5 8.5l.94-2.06 2.06-.94-2.06-.94L8.5 2.5l-.94 2.06-2.06.94zm10 10l.94 2.06.94-2.06 2.06-.94-2.06-.94-.94-2.06-.94 2.06-2.06.94z\"/><path d=\"M17.41 7.96l-1.37-1.37c-.4-.4-.92-.59-1.43-.59-.52 0-1.04.2-1.43.59L10.3 9.45l-7.72 7.72c-.78.78-.78 2.05 0 2.83L4 21.41c.39.39.9.59 1.41.59.51 0 1.02-.2 1.41-.59l7.78-7.78 2.81-2.81c.8-.78.8-2.07 0-2.86zM5.41 20L4 18.59l7.72-7.72 1.47 1.35L5.41 20z\"/>\n",
              "  </svg>\n",
              "      </button>\n",
              "      \n",
              "  <style>\n",
              "    .colab-df-container {\n",
              "      display:flex;\n",
              "      flex-wrap:wrap;\n",
              "      gap: 12px;\n",
              "    }\n",
              "\n",
              "    .colab-df-convert {\n",
              "      background-color: #E8F0FE;\n",
              "      border: none;\n",
              "      border-radius: 50%;\n",
              "      cursor: pointer;\n",
              "      display: none;\n",
              "      fill: #1967D2;\n",
              "      height: 32px;\n",
              "      padding: 0 0 0 0;\n",
              "      width: 32px;\n",
              "    }\n",
              "\n",
              "    .colab-df-convert:hover {\n",
              "      background-color: #E2EBFA;\n",
              "      box-shadow: 0px 1px 2px rgba(60, 64, 67, 0.3), 0px 1px 3px 1px rgba(60, 64, 67, 0.15);\n",
              "      fill: #174EA6;\n",
              "    }\n",
              "\n",
              "    [theme=dark] .colab-df-convert {\n",
              "      background-color: #3B4455;\n",
              "      fill: #D2E3FC;\n",
              "    }\n",
              "\n",
              "    [theme=dark] .colab-df-convert:hover {\n",
              "      background-color: #434B5C;\n",
              "      box-shadow: 0px 1px 3px 1px rgba(0, 0, 0, 0.15);\n",
              "      filter: drop-shadow(0px 1px 2px rgba(0, 0, 0, 0.3));\n",
              "      fill: #FFFFFF;\n",
              "    }\n",
              "  </style>\n",
              "\n",
              "      <script>\n",
              "        const buttonEl =\n",
              "          document.querySelector('#df-d68c9488-07ce-4b74-88cb-06442ed741d7 button.colab-df-convert');\n",
              "        buttonEl.style.display =\n",
              "          google.colab.kernel.accessAllowed ? 'block' : 'none';\n",
              "\n",
              "        async function convertToInteractive(key) {\n",
              "          const element = document.querySelector('#df-d68c9488-07ce-4b74-88cb-06442ed741d7');\n",
              "          const dataTable =\n",
              "            await google.colab.kernel.invokeFunction('convertToInteractive',\n",
              "                                                     [key], {});\n",
              "          if (!dataTable) return;\n",
              "\n",
              "          const docLinkHtml = 'Like what you see? Visit the ' +\n",
              "            '<a target=\"_blank\" href=https://colab.research.google.com/notebooks/data_table.ipynb>data table notebook</a>'\n",
              "            + ' to learn more about interactive tables.';\n",
              "          element.innerHTML = '';\n",
              "          dataTable['output_type'] = 'display_data';\n",
              "          await google.colab.output.renderOutput(dataTable, element);\n",
              "          const docLink = document.createElement('div');\n",
              "          docLink.innerHTML = docLinkHtml;\n",
              "          element.appendChild(docLink);\n",
              "        }\n",
              "      </script>\n",
              "    </div>\n",
              "  </div>\n",
              "  "
            ]
          },
          "metadata": {},
          "execution_count": 57
        }
      ],
      "source": [
        "df"
      ]
    },
    {
      "cell_type": "markdown",
      "metadata": {
        "id": "DLzMcBd3mPzf"
      },
      "source": [
        "## Мы только что сгенерили данные на рандоме. Будем считать, что они получены от реального фитнес центра."
      ]
    },
    {
      "cell_type": "code",
      "source": [
        "go()"
      ],
      "metadata": {
        "colab": {
          "base_uri": "https://localhost:8080/"
        },
        "id": "c5RAusBdCq4z",
        "outputId": "ec3e9d85-d118-4df8-c475-f10cfad17daa"
      },
      "execution_count": null,
      "outputs": [
        {
          "output_type": "stream",
          "name": "stdout",
          "text": [
            "client_id age height weight sex trener long_time tarif price\n",
            "ID_23008  28    183   111   F     0     9     3     7000  \n",
            "ID_82144  57    158   56    M     1     22    2     5000  \n",
            "ID_64064  36    184   64    M     0     12    3     7000  \n",
            "ID_55593  24    166   71    M     1     23    1     3500  \n",
            "ID_91313  22    176   63    M     0     20    2     5000  \n",
            "ID_25858  25    170   77    M     1     8     3     7000  \n",
            "ID_32539  40    171   69    F     1     9     3     7000  \n",
            "ID_65848  27    165   76    M     1     11    3     7000  \n",
            "ID_43302  56    164   75    F     1     21    1     3500  \n",
            "ID_34578  48    163   58    M     0     10    3     7000  \n",
            "ID_38441  30    192   76    F     0     10    3     7000  \n",
            "ID_54271  38    170   106   F     0     24    0     2000  \n",
            "ID_57251  34    166   55    F     0     7     2     5000  \n",
            "ID_52754  27    165   82    F     1     6     0     2000  \n",
            "ID_41784  53    168   80    F     0     3     3     7000  \n",
            "ID_97925  31    169   97    M     1     10    0     2000  \n",
            "ID_84393  45    186   92    M     0     1     1     3500  \n",
            "ID_13070  47    176   108   F     1     1     0     2000  \n",
            "ID_98042  48    176   103   F     0     11    3     7000  \n",
            "ID_91477  50    170   56    F     1     9     1     3500  \n",
            "ID_84668  39    165   110   M     1     2     2     5000  \n",
            "ID_42077  53    180   96    M     1     3     0     2000  \n"
          ]
        }
      ]
    },
    {
      "cell_type": "markdown",
      "metadata": {
        "id": "WcbrD3fCmlo4"
      },
      "source": [
        "# Давайте для каждого клиента расчитаем индекс массы тела\n",
        "\n",
        "формула расчета берется из гугла. Для расчета потребуется рост в МЕТРАХ и масса тела в КИЛОГРАММАХ.\n",
        "\n",
        "$$ ind = \\frac{weight}{height^2}$$"
      ]
    },
    {
      "cell_type": "code",
      "execution_count": null,
      "metadata": {
        "id": "eCRpV5T3eKII"
      },
      "outputs": [],
      "source": [
        "# your code\n",
        "title.append('IMT')"
      ]
    },
    {
      "cell_type": "code",
      "source": [
        "for client in table:\n",
        "  client.append(round(client[3]/(client[2] / 100)**2,2))"
      ],
      "metadata": {
        "id": "o0o5KtU71YBX"
      },
      "execution_count": null,
      "outputs": []
    },
    {
      "cell_type": "code",
      "source": [],
      "metadata": {
        "id": "_lL6NIEd3LFX"
      },
      "execution_count": null,
      "outputs": []
    },
    {
      "cell_type": "code",
      "execution_count": null,
      "metadata": {
        "id": "dr8E82HCeKFo",
        "colab": {
          "base_uri": "https://localhost:8080/"
        },
        "outputId": "b05a92bc-c276-421c-a10b-85db596fc0a5"
      },
      "outputs": [
        {
          "output_type": "stream",
          "name": "stdout",
          "text": [
            "client_id age height weight sex trener long_time tarif price IMT\n",
            "ID_23008  28    183   111   F     0     9     3     7000  33.15  \n",
            "ID_82144  57    158   56    M     1     22    2     5000  22.43  \n",
            "ID_64064  36    184   64    M     0     12    3     7000  18.9  \n",
            "ID_55593  24    166   71    M     1     23    1     3500  25.77  \n",
            "ID_91313  22    176   63    M     0     20    2     5000  20.34  \n",
            "ID_25858  25    170   77    M     1     8     3     7000  26.64  \n",
            "ID_32539  40    171   69    F     1     9     3     7000  23.6  \n",
            "ID_65848  27    165   76    M     1     11    3     7000  27.92  \n",
            "ID_43302  56    164   75    F     1     21    1     3500  27.89  \n",
            "ID_34578  48    163   58    M     0     10    3     7000  21.83  \n",
            "ID_38441  30    192   76    F     0     10    3     7000  20.62  \n",
            "ID_54271  38    170   106   F     0     24    0     2000  36.68  \n",
            "ID_57251  34    166   55    F     0     7     2     5000  19.96  \n",
            "ID_52754  27    165   82    F     1     6     0     2000  30.12  \n",
            "ID_41784  53    168   80    F     0     3     3     7000  28.34  \n",
            "ID_97925  31    169   97    M     1     10    0     2000  33.96  \n",
            "ID_84393  45    186   92    M     0     1     1     3500  26.59  \n",
            "ID_13070  47    176   108   F     1     1     0     2000  34.87  \n",
            "ID_98042  48    176   103   F     0     11    3     7000  33.25  \n",
            "ID_91477  50    170   56    F     1     9     1     3500  19.38  \n",
            "ID_84668  39    165   110   M     1     2     2     5000  40.4  \n",
            "ID_42077  53    180   96    M     1     3     0     2000  29.63  \n"
          ]
        }
      ],
      "source": [
        "go()"
      ]
    },
    {
      "cell_type": "code",
      "execution_count": null,
      "metadata": {
        "id": "zNB_9YBweKDb"
      },
      "outputs": [],
      "source": []
    },
    {
      "cell_type": "code",
      "execution_count": null,
      "metadata": {
        "id": "7VnTw70seKBd"
      },
      "outputs": [],
      "source": []
    },
    {
      "cell_type": "markdown",
      "metadata": {
        "id": "GNsqAeHwnR9S"
      },
      "source": [
        "# Давайте проинтерпретируем полученные данные и добавим новую колонку \"interpreted_IMT\" по следущему принципу:\n",
        "\n",
        "![image.png](data:image/png;base64,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)"
      ]
    },
    {
      "cell_type": "code",
      "execution_count": null,
      "metadata": {
        "id": "YVJZ6-Zbm8oB"
      },
      "outputs": [],
      "source": [
        "# your code"
      ]
    },
    {
      "cell_type": "code",
      "execution_count": null,
      "metadata": {
        "id": "BwxE7htPm8lf"
      },
      "outputs": [],
      "source": [
        "inter = ['underweight', 'normal weight', 'overweight', 'obesity_1st', 'obesity_2nd', 'obesity_3rd']\n",
        "title.append('weight_status')\n",
        "\n",
        "for client in table:\n",
        "  if client[9] < 18.5:\n",
        "    client.append(inter[0])\n",
        "  elif client[9] >= 18.5 and client[9] < 25:\n",
        "    client.append(inter[1])\n",
        "  elif client[9] >= 25 and client[9] < 30:\n",
        "    client.append(inter[2])\n",
        "  elif client[9] >= 30 and client[9] < 35:\n",
        "    client.append(inter[3])\n",
        "  elif client[9] >= 35 and client[9] < 40:\n",
        "    client.append(inter[4])\n",
        "  else:\n",
        "    client.append(inter[5])\n",
        "\n",
        "\n"
      ]
    },
    {
      "cell_type": "code",
      "source": [],
      "metadata": {
        "id": "1IDgPgHy4JTy"
      },
      "execution_count": null,
      "outputs": []
    },
    {
      "cell_type": "code",
      "execution_count": null,
      "metadata": {
        "id": "WSJ7B1vCm8jX",
        "colab": {
          "base_uri": "https://localhost:8080/"
        },
        "outputId": "a7d36155-55e7-4348-ddf1-45d260cea5b5"
      },
      "outputs": [
        {
          "output_type": "stream",
          "name": "stdout",
          "text": [
            "client_id age height weight sex trener long_time tarif price IMT weight_status\n",
            "ID_23008  28    183   111   F     0     9     3     7000  33.15  obesity_1st  \n",
            "ID_82144  57    158   56    M     1     22    2     5000  22.43  normal weight  \n",
            "ID_64064  36    184   64    M     0     12    3     7000  18.9  normal weight  \n",
            "ID_55593  24    166   71    M     1     23    1     3500  25.77  overweight  \n",
            "ID_91313  22    176   63    M     0     20    2     5000  20.34  normal weight  \n",
            "ID_25858  25    170   77    M     1     8     3     7000  26.64  overweight  \n",
            "ID_32539  40    171   69    F     1     9     3     7000  23.6  normal weight  \n",
            "ID_65848  27    165   76    M     1     11    3     7000  27.92  overweight  \n",
            "ID_43302  56    164   75    F     1     21    1     3500  27.89  overweight  \n",
            "ID_34578  48    163   58    M     0     10    3     7000  21.83  normal weight  \n",
            "ID_38441  30    192   76    F     0     10    3     7000  20.62  normal weight  \n",
            "ID_54271  38    170   106   F     0     24    0     2000  36.68  obesity_2nd  \n",
            "ID_57251  34    166   55    F     0     7     2     5000  19.96  normal weight  \n",
            "ID_52754  27    165   82    F     1     6     0     2000  30.12  obesity_1st  \n",
            "ID_41784  53    168   80    F     0     3     3     7000  28.34  overweight  \n",
            "ID_97925  31    169   97    M     1     10    0     2000  33.96  obesity_1st  \n",
            "ID_84393  45    186   92    M     0     1     1     3500  26.59  overweight  \n",
            "ID_13070  47    176   108   F     1     1     0     2000  34.87  obesity_1st  \n",
            "ID_98042  48    176   103   F     0     11    3     7000  33.25  obesity_1st  \n",
            "ID_91477  50    170   56    F     1     9     1     3500  19.38  normal weight  \n",
            "ID_84668  39    165   110   M     1     2     2     5000  40.4  obesity_3rd  \n",
            "ID_42077  53    180   96    M     1     3     0     2000  29.63  overweight  \n"
          ]
        }
      ],
      "source": [
        "go()"
      ]
    },
    {
      "cell_type": "code",
      "source": [
        "status = 'obesity_1st'\n",
        "count = 0\n",
        "for i in table:\n",
        "  if i[10] == status:\n",
        "    count+=1\n",
        "count"
      ],
      "metadata": {
        "colab": {
          "base_uri": "https://localhost:8080/"
        },
        "id": "v1yX1Dmc5wgs",
        "outputId": "d9355bd6-bbf3-4d59-c1b4-097327bd908c"
      },
      "execution_count": null,
      "outputs": [
        {
          "output_type": "execute_result",
          "data": {
            "text/plain": [
              "163"
            ]
          },
          "metadata": {},
          "execution_count": 65
        }
      ]
    },
    {
      "cell_type": "code",
      "source": [],
      "metadata": {
        "id": "yvTUurvD5wbq"
      },
      "execution_count": null,
      "outputs": []
    },
    {
      "cell_type": "code",
      "source": [],
      "metadata": {
        "id": "o0xH8vsT5wTf"
      },
      "execution_count": null,
      "outputs": []
    },
    {
      "cell_type": "markdown",
      "metadata": {
        "id": "un_CJL3Pqa3e"
      },
      "source": [
        "У нас есть фичи тариф и прайс. Каждый тариф предполагает определенную ежемесячную плату. У тарифов 2 и 3 услуги тренера входят в стоимостьб но тарифы 0 и 1 такой опции не имеют.\n",
        "\n",
        "# В данных есть ошибка (Друг некорректно собрал их...). Придется исправить!\n",
        "\n",
        "Мы видим, что независимо от тарифа, некоторые люди пользуются услугами тренера. Стоимость его услуг составляет 4000 сом в мес.\n",
        "\n",
        "Для тарифов 0 и 1 прибавте к прайсу стоимость услуги тренера, если клиент ею пользуется."
      ]
    },
    {
      "cell_type": "code",
      "execution_count": null,
      "metadata": {
        "id": "dRmyWX5Im8hW"
      },
      "outputs": [],
      "source": [
        "for client in table:\n",
        "  if client[7] == 0 or client[7] == 1 and client[1]:\n",
        "    client[8] += 4000\n"
      ]
    },
    {
      "cell_type": "code",
      "execution_count": null,
      "metadata": {
        "id": "asTi93_3m8eu",
        "colab": {
          "base_uri": "https://localhost:8080/"
        },
        "outputId": "ad59b931-3469-493d-9586-cf4bb6bf5d08"
      },
      "outputs": [
        {
          "output_type": "stream",
          "name": "stdout",
          "text": [
            "client_id age height weight sex trener long_time tarif price IMT weight_status\n",
            "ID_23008  28    183   111   F     0     9     3     7000  33.15  obesity_1st  \n",
            "ID_82144  57    158   56    M     1     22    2     5000  22.43  normal weight  \n",
            "ID_64064  36    184   64    M     0     12    3     7000  18.9  normal weight  \n",
            "ID_55593  24    166   71    M     1     23    1     7500  25.77  overweight  \n",
            "ID_91313  22    176   63    M     0     20    2     5000  20.34  normal weight  \n",
            "ID_25858  25    170   77    M     1     8     3     7000  26.64  overweight  \n",
            "ID_32539  40    171   69    F     1     9     3     7000  23.6  normal weight  \n",
            "ID_65848  27    165   76    M     1     11    3     7000  27.92  overweight  \n",
            "ID_43302  56    164   75    F     1     21    1     7500  27.89  overweight  \n",
            "ID_34578  48    163   58    M     0     10    3     7000  21.83  normal weight  \n",
            "ID_38441  30    192   76    F     0     10    3     7000  20.62  normal weight  \n",
            "ID_54271  38    170   106   F     0     24    0     6000  36.68  obesity_2nd  \n",
            "ID_57251  34    166   55    F     0     7     2     5000  19.96  normal weight  \n",
            "ID_52754  27    165   82    F     1     6     0     6000  30.12  obesity_1st  \n",
            "ID_41784  53    168   80    F     0     3     3     7000  28.34  overweight  \n",
            "ID_97925  31    169   97    M     1     10    0     6000  33.96  obesity_1st  \n",
            "ID_84393  45    186   92    M     0     1     1     7500  26.59  overweight  \n",
            "ID_13070  47    176   108   F     1     1     0     6000  34.87  obesity_1st  \n",
            "ID_98042  48    176   103   F     0     11    3     7000  33.25  obesity_1st  \n",
            "ID_91477  50    170   56    F     1     9     1     7500  19.38  normal weight  \n",
            "ID_84668  39    165   110   M     1     2     2     5000  40.4  obesity_3rd  \n",
            "ID_42077  53    180   96    M     1     3     0     6000  29.63  overweight  \n"
          ]
        }
      ],
      "source": [
        "go()"
      ]
    },
    {
      "cell_type": "code",
      "execution_count": null,
      "metadata": {
        "id": "GisM-2DXrqr7"
      },
      "outputs": [],
      "source": []
    },
    {
      "cell_type": "code",
      "execution_count": null,
      "metadata": {
        "id": "pqXvUeG7rqpl"
      },
      "outputs": [],
      "source": []
    },
    {
      "cell_type": "markdown",
      "metadata": {
        "id": "4hZ68czarrP8"
      },
      "source": [
        "## Бонусы и скидки\n",
        "\n",
        "У нас среди клиентов есть долгожители! Давайте им сделаем скидку на 5% на все последущее время. Скорректируйте прайс для клиентов, которые посещают фитнес центр больше 12 месяцев."
      ]
    },
    {
      "cell_type": "code",
      "execution_count": null,
      "metadata": {
        "id": "C5pXYyRRrqm0"
      },
      "outputs": [],
      "source": [
        "for client in table:\n",
        "  if client[6] > 12:\n",
        "    client[8] *= 0.95\n",
        "    client[8] = round(client[8])\n"
      ]
    },
    {
      "cell_type": "code",
      "execution_count": null,
      "metadata": {
        "id": "DPEcw-s2rqiz",
        "colab": {
          "base_uri": "https://localhost:8080/"
        },
        "outputId": "1f864a57-d9b2-4ec2-8ed9-a4573244e193"
      },
      "outputs": [
        {
          "output_type": "stream",
          "name": "stdout",
          "text": [
            "client_id age height weight sex trener long_time tarif price IMT weight_status\n",
            "ID_23008  28    183   111   F     0     9     3     7000  33.15  obesity_1st  \n",
            "ID_82144  57    158   56    M     1     22    2     4750  22.43  normal weight  \n",
            "ID_64064  36    184   64    M     0     12    3     7000  18.9  normal weight  \n",
            "ID_55593  24    166   71    M     1     23    1     7125  25.77  overweight  \n",
            "ID_91313  22    176   63    M     0     20    2     4750  20.34  normal weight  \n",
            "ID_25858  25    170   77    M     1     8     3     7000  26.64  overweight  \n",
            "ID_32539  40    171   69    F     1     9     3     7000  23.6  normal weight  \n",
            "ID_65848  27    165   76    M     1     11    3     7000  27.92  overweight  \n",
            "ID_43302  56    164   75    F     1     21    1     7125  27.89  overweight  \n",
            "ID_34578  48    163   58    M     0     10    3     7000  21.83  normal weight  \n",
            "ID_38441  30    192   76    F     0     10    3     7000  20.62  normal weight  \n",
            "ID_54271  38    170   106   F     0     24    0     5700  36.68  obesity_2nd  \n",
            "ID_57251  34    166   55    F     0     7     2     5000  19.96  normal weight  \n",
            "ID_52754  27    165   82    F     1     6     0     6000  30.12  obesity_1st  \n",
            "ID_41784  53    168   80    F     0     3     3     7000  28.34  overweight  \n",
            "ID_97925  31    169   97    M     1     10    0     6000  33.96  obesity_1st  \n",
            "ID_84393  45    186   92    M     0     1     1     7500  26.59  overweight  \n",
            "ID_13070  47    176   108   F     1     1     0     6000  34.87  obesity_1st  \n",
            "ID_98042  48    176   103   F     0     11    3     7000  33.25  obesity_1st  \n",
            "ID_91477  50    170   56    F     1     9     1     7500  19.38  normal weight  \n",
            "ID_84668  39    165   110   M     1     2     2     5000  40.4  obesity_3rd  \n",
            "ID_42077  53    180   96    M     1     3     0     6000  29.63  overweight  \n"
          ]
        }
      ],
      "source": [
        "go()"
      ]
    },
    {
      "cell_type": "code",
      "execution_count": null,
      "metadata": {
        "id": "3mQGvk7Vm8XX"
      },
      "outputs": [],
      "source": []
    },
    {
      "cell_type": "code",
      "execution_count": null,
      "metadata": {
        "id": "32eNReEbtA5y"
      },
      "outputs": [],
      "source": []
    },
    {
      "cell_type": "markdown",
      "metadata": {
        "id": "gtl0J2-rtBNm"
      },
      "source": [
        "# Рекомендации\n",
        "\n",
        "У нас к сожалению не все пользуются услугами тренера. Некоторым клиентам он особенно нужен (на наш взгляд)\n",
        "\n",
        "Мы порекомендуем его по скидке 20 % для следущих клиентов:\n",
        "\n",
        "\n",
        "# Прани:\n",
        "\n",
        "\n",
        "\n",
        "*   От 21 до 35 лет\n",
        "*   Индекс массы тела Normal weight & owerweight\n",
        "*   Посещение более 3х месяцев\n",
        "\n",
        "\n",
        "# Девушки\n",
        "\n",
        "*   От 25 до 40 лет\n",
        "*   Индекс массы тела: Normal weight & owerweight & obesity 1st\n",
        "*   Посещение более 3х месяцев\n",
        "\n",
        "\n",
        "Создайте новую фичу (колонку) с текстом 'recommended'\n",
        "\n"
      ]
    },
    {
      "cell_type": "code",
      "execution_count": null,
      "metadata": {
        "id": "ZcYI1u_RtA3K"
      },
      "outputs": [],
      "source": [
        "title.append('recommended')\n",
        "for client in table:\n",
        "  if (client[1] > 21 and client[1] < 35) and (client[10] == 'normal weight' or client[10] == 'overweight') and client[6] > 3 and client[4] == \"M\":\n",
        "    client.append(True)\n",
        "  elif (client[1] > 25 and client[1] < 40) and (client[10] == 'normal weight' or client[10] == 'overweight' or client[10] == 'obesity_1st') and client[6] > 3 and client[4] == \"F\":\n",
        "    client.append(True)\n",
        "  else:\n",
        "    client.append(False)\n"
      ]
    },
    {
      "cell_type": "code",
      "execution_count": null,
      "metadata": {
        "id": "X50kydCYtA0g",
        "colab": {
          "base_uri": "https://localhost:8080/"
        },
        "outputId": "6165b34e-5196-4701-a3a9-b8cb05a00373"
      },
      "outputs": [
        {
          "output_type": "stream",
          "name": "stdout",
          "text": [
            "client_id age height weight sex trener long_time tarif price IMT weight_status recommended\n",
            "ID_23008  28    183   111   F     0     9     3     7000  33.15  obesity_1st  True  \n",
            "ID_82144  57    158   56    M     1     22    2     4750  22.43  normal weight  False  \n",
            "ID_64064  36    184   64    M     0     12    3     7000  18.9  normal weight  False  \n",
            "ID_55593  24    166   71    M     1     23    1     7125  25.77  overweight  True  \n",
            "ID_91313  22    176   63    M     0     20    2     4750  20.34  normal weight  True  \n",
            "ID_25858  25    170   77    M     1     8     3     7000  26.64  overweight  True  \n",
            "ID_32539  40    171   69    F     1     9     3     7000  23.6  normal weight  False  \n",
            "ID_65848  27    165   76    M     1     11    3     7000  27.92  overweight  True  \n",
            "ID_43302  56    164   75    F     1     21    1     7125  27.89  overweight  False  \n",
            "ID_34578  48    163   58    M     0     10    3     7000  21.83  normal weight  False  \n",
            "ID_38441  30    192   76    F     0     10    3     7000  20.62  normal weight  True  \n",
            "ID_54271  38    170   106   F     0     24    0     5700  36.68  obesity_2nd  False  \n",
            "ID_57251  34    166   55    F     0     7     2     5000  19.96  normal weight  True  \n",
            "ID_52754  27    165   82    F     1     6     0     6000  30.12  obesity_1st  True  \n",
            "ID_41784  53    168   80    F     0     3     3     7000  28.34  overweight  False  \n",
            "ID_97925  31    169   97    M     1     10    0     6000  33.96  obesity_1st  False  \n",
            "ID_84393  45    186   92    M     0     1     1     7500  26.59  overweight  False  \n",
            "ID_13070  47    176   108   F     1     1     0     6000  34.87  obesity_1st  False  \n",
            "ID_98042  48    176   103   F     0     11    3     7000  33.25  obesity_1st  False  \n",
            "ID_91477  50    170   56    F     1     9     1     7500  19.38  normal weight  False  \n",
            "ID_84668  39    165   110   M     1     2     2     5000  40.4  obesity_3rd  False  \n",
            "ID_42077  53    180   96    M     1     3     0     6000  29.63  overweight  False  \n"
          ]
        }
      ],
      "source": [
        "go()"
      ]
    },
    {
      "cell_type": "code",
      "execution_count": null,
      "metadata": {
        "id": "uUzURDXAtAyG"
      },
      "outputs": [],
      "source": []
    },
    {
      "cell_type": "code",
      "execution_count": null,
      "metadata": {
        "id": "WnTL5iVwtAvm"
      },
      "outputs": [],
      "source": []
    },
    {
      "cell_type": "code",
      "execution_count": null,
      "metadata": {
        "id": "CYAx0f5qtAtO"
      },
      "outputs": [],
      "source": []
    },
    {
      "cell_type": "markdown",
      "metadata": {
        "id": "jsWuSKl9undR"
      },
      "source": [
        "## Прогноз\n",
        "\n",
        "Давайте сперва расчитаем доход центра за месяц. Учтите, тренер получает 3000 сом в месяц за одного клиента. Таким образом 1000 сом остается в бюджете."
      ]
    },
    {
      "cell_type": "code",
      "execution_count": null,
      "metadata": {
        "id": "btFEEFErtAq0",
        "colab": {
          "base_uri": "https://localhost:8080/"
        },
        "outputId": "a080bf71-d91a-4b68-cff9-2809bd95ae1f"
      },
      "outputs": [
        {
          "output_type": "stream",
          "name": "stdout",
          "text": [
            "4736325\n"
          ]
        }
      ],
      "source": [
        "revenue = 0\n",
        "for client in table:\n",
        "  if client[5] == 1:\n",
        "    revenue += (client[8] - 3000)\n",
        "  else:\n",
        "    revenue += client[8]\n",
        "\n",
        "print(revenue)"
      ]
    },
    {
      "cell_type": "code",
      "execution_count": null,
      "metadata": {
        "id": "M7CGyJ42tAmW"
      },
      "outputs": [],
      "source": []
    },
    {
      "cell_type": "code",
      "execution_count": null,
      "metadata": {
        "id": "OWIU4iQHeJ-x"
      },
      "outputs": [],
      "source": []
    },
    {
      "cell_type": "markdown",
      "metadata": {
        "id": "lmq-n58yvFPe"
      },
      "source": [
        "Давайте прикинем, что после получения рекомендаций в тренере 60% клиентов согласились. \n",
        "\n",
        "Вычислим, каким станет ежемесячный доход центра и на сколько процентов он вырастет."
      ]
    },
    {
      "cell_type": "code",
      "execution_count": null,
      "metadata": {
        "id": "-PJCEVu_eJ8L",
        "colab": {
          "base_uri": "https://localhost:8080/"
        },
        "outputId": "90dc4c79-38e3-41c5-f18f-16f045517d58"
      },
      "outputs": [
        {
          "output_type": "stream",
          "name": "stdout",
          "text": [
            "101400\n",
            "4837725\n"
          ]
        }
      ],
      "source": [
        "count_recommended = 0\n",
        "for client in table:\n",
        "  if client[11] == True:\n",
        "    count_recommended+=1\n",
        "\n",
        "additional_rev = round((count_recommended * 1000) * 0.60)\n",
        "print(additional_rev)\n",
        "\n",
        "new_revenue = revenue + additional_rev\n",
        "print(new_revenue)"
      ]
    },
    {
      "cell_type": "code",
      "execution_count": null,
      "metadata": {
        "id": "Z1Oz05-0vEUA"
      },
      "outputs": [],
      "source": []
    },
    {
      "cell_type": "code",
      "execution_count": null,
      "metadata": {
        "id": "raVF0uafvERt"
      },
      "outputs": [],
      "source": []
    },
    {
      "cell_type": "code",
      "execution_count": null,
      "metadata": {
        "id": "F8BT0UKLvEPa"
      },
      "outputs": [],
      "source": []
    },
    {
      "cell_type": "code",
      "execution_count": null,
      "metadata": {
        "id": "W3Ut7shpvELN"
      },
      "outputs": [],
      "source": []
    }
  ],
  "metadata": {
    "colab": {
      "provenance": [],
      "collapsed_sections": [
        "DLzMcBd3mPzf"
      ],
      "include_colab_link": true
    },
    "kernelspec": {
      "display_name": "Python 3",
      "name": "python3"
    },
    "language_info": {
      "name": "python"
    }
  },
  "nbformat": 4,
  "nbformat_minor": 0
}